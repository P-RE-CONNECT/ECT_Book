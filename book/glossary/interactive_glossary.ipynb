{
 "cells": [
  {
   "cell_type": "code",
   "execution_count": 1,
   "id": "203df05f",
   "metadata": {
    "tags": [
     "remove-output"
    ]
   },
   "outputs": [],
   "source": [
    "from interactive_glossary import Interactive_Glossary"
   ]
  },
  {
   "cell_type": "markdown",
   "id": "6b40d10e",
   "metadata": {},
   "source": [
    "# Interactive glossaries\n",
    "This notebook contains a display of the interactive glossaries for the Bachelor Civil Engineering at the Technical University Delft. A user can use it by selecting one or multiple courses, the table then shows per row a symbol that is used in the selected course(s), while the columns describe the use case in that course."
   ]
  },
  {
   "cell_type": "markdown",
   "id": "64a9370b",
   "metadata": {},
   "source": [
    "## Greek glossary sheet"
   ]
  },
  {
   "cell_type": "code",
   "execution_count": 2,
   "id": "15ab6eba",
   "metadata": {},
   "outputs": [
    {
     "data": {
      "text/html": [
       "<h3>📚 Interactive Glossary of Greek Symbols</h3>"
      ],
      "text/plain": [
       "<IPython.core.display.HTML object>"
      ]
     },
     "metadata": {},
     "output_type": "display_data"
    },
    {
     "data": {
      "text/html": [
       "<p>Select one or more courses to filter the symbols and their meanings:</p>"
      ],
      "text/plain": [
       "<IPython.core.display.HTML object>"
      ]
     },
     "metadata": {},
     "output_type": "display_data"
    },
    {
     "data": {
      "application/vnd.jupyter.widget-view+json": {
       "model_id": "583ad38eea8f4aa19b085c512b2ff5d0",
       "version_major": 2,
       "version_minor": 0
      },
      "text/plain": [
       "interactive(children=(SelectMultiple(description='Courses:', index=(0,), layout=Layout(height='250px', width='…"
      ]
     },
     "metadata": {},
     "output_type": "display_data"
    }
   ],
   "source": [
    "interactive_glossary = Interactive_Glossary()\n",
    "interactive_glossary.MultiCoursePlotly(sheet='Greek', option_all_combined=True)"
   ]
  },
  {
   "cell_type": "markdown",
   "id": "5fffddaa",
   "metadata": {},
   "source": [
    "## Math operators glossary sheet"
   ]
  },
  {
   "cell_type": "code",
   "execution_count": 3,
   "id": "138ae997",
   "metadata": {},
   "outputs": [
    {
     "data": {
      "text/html": [
       "<h3>📚 Interactive Glossary of Math Operators</h3>"
      ],
      "text/plain": [
       "<IPython.core.display.HTML object>"
      ]
     },
     "metadata": {},
     "output_type": "display_data"
    },
    {
     "data": {
      "text/html": [
       "<p>Select one or more courses to filter the operators and their meanings:</p>"
      ],
      "text/plain": [
       "<IPython.core.display.HTML object>"
      ]
     },
     "metadata": {},
     "output_type": "display_data"
    },
    {
     "data": {
      "application/vnd.jupyter.widget-view+json": {
       "model_id": "f7653979f5504046b56b3bc49f564ec1",
       "version_major": 2,
       "version_minor": 0
      },
      "text/plain": [
       "interactive(children=(Text(value='', description='Search:', layout=Layout(width='398px'), placeholder='Search …"
      ]
     },
     "metadata": {},
     "output_type": "display_data"
    }
   ],
   "source": [
    "interactive_glossary.MathOperatorsPlotly(option_search=True)"
   ]
  },
  {
   "cell_type": "markdown",
   "id": "7c1a576d",
   "metadata": {},
   "source": [
    "## Latin symbols glossary sheet"
   ]
  },
  {
   "cell_type": "code",
   "execution_count": 4,
   "id": "18a9e182",
   "metadata": {},
   "outputs": [
    {
     "data": {
      "text/html": [
       "<h3>📚 Interactive Glossary of Latin Symbols</h3>"
      ],
      "text/plain": [
       "<IPython.core.display.HTML object>"
      ]
     },
     "metadata": {},
     "output_type": "display_data"
    },
    {
     "data": {
      "text/html": [
       "<p>Select one or more courses to filter the symbols and their meanings:</p>"
      ],
      "text/plain": [
       "<IPython.core.display.HTML object>"
      ]
     },
     "metadata": {},
     "output_type": "display_data"
    },
    {
     "data": {
      "application/vnd.jupyter.widget-view+json": {
       "model_id": "fb54ca7a2ac441b6b7a444bae3c932c0",
       "version_major": 2,
       "version_minor": 0
      },
      "text/plain": [
       "interactive(children=(SelectMultiple(description='Courses:', index=(0,), layout=Layout(height='250px', width='…"
      ]
     },
     "metadata": {},
     "output_type": "display_data"
    }
   ],
   "source": [
    "interactive_glossary.MultiCoursePlotly(sheet='Latin', option_all_separate=True, option_all_combined=True)"
   ]
  },
  {
   "cell_type": "markdown",
   "id": "69392e8a",
   "metadata": {},
   "source": [
    "# Math notation examples"
   ]
  },
  {
   "cell_type": "markdown",
   "id": "346b8ae3",
   "metadata": {},
   "source": [
    "**Difference between $d$ and $\\partial$**:\n",
    "\n",
    "$$\n",
    "\\vec{a} = \\frac{d\\vec{v}}{dt} = \\frac{\\partial\\vec{v}}{\\partial t} + \\Big(v_x \\frac{\\partial}{\\partial x} + v_y \\frac{\\partial}{\\partial y} + v_z \\frac{\\partial}{\\partial z} \\Big) \\cdot \\vec{v}\n",
    "$$\n",
    "\n",
    "**Kronecker/Dirac delta**:\n",
    "\n",
    "$$\n",
    "\\delta_{ij} = \\begin{cases}\n",
    "1 & 1, \\quad i = j\\\\\n",
    "2 & 0, \\quad i \\neq j\n",
    "\\end{cases}\n",
    "$$\n",
    "\n",
    "**Conditional probability**:\n",
    "\n",
    "$$\n",
    "P(A|C) = \\frac{P(A\\cap C)}{P(C)} \\quad \\text{for} \\quad P(C) > 0\n",
    "$$\n",
    "\n",
    "**Mass moment of inertia of square surface area**:\n",
    "\n",
    "$$\n",
    "I = \\frac{1}{12} b h^3\n",
    "$$"
   ]
  },
  {
   "cell_type": "markdown",
   "id": "47cccca4",
   "metadata": {},
   "source": []
  },
  {
   "cell_type": "code",
   "execution_count": null,
   "id": "038091ee",
   "metadata": {},
   "outputs": [],
   "source": []
  }
 ],
 "metadata": {
  "kernelspec": {
   "display_name": "teachbooks",
   "language": "python",
   "name": "python3"
  },
  "language_info": {
   "codemirror_mode": {
    "name": "ipython",
    "version": 3
   },
   "file_extension": ".py",
   "mimetype": "text/x-python",
   "name": "python",
   "nbconvert_exporter": "python",
   "pygments_lexer": "ipython3",
   "version": "3.13.2"
  }
 },
 "nbformat": 4,
 "nbformat_minor": 5
}
