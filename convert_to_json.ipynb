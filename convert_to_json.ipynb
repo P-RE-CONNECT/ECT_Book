{
 "cells": [
  {
   "cell_type": "code",
   "execution_count": 2,
   "id": "9df19d8a",
   "metadata": {},
   "outputs": [],
   "source": [
    "import pandas as pd"
   ]
  },
  {
   "cell_type": "code",
   "execution_count": 3,
   "id": "0cccb4f7",
   "metadata": {},
   "outputs": [],
   "source": [
    "df = pd.read_csv('glossary.csv')"
   ]
  },
  {
   "cell_type": "code",
   "execution_count": 10,
   "id": "f50d80c8",
   "metadata": {},
   "outputs": [
    {
     "data": {
      "text/plain": [
       "Index(['Symbol', 'Name', 'Grand Challenges', 'Earth and Climate System',\n",
       "       'Mechanics and Thermodynamics', 'Calculus',\n",
       "       'Surface, Water, and Atmosphere', 'Geodata Fundamentals',\n",
       "       'Chemistry and Thermodynamics', 'Linear Algebra',\n",
       "       'Atmosphere and Ocean Dynamics', 'Earth’s Subsurface',\n",
       "       'Signals and Time Series', 'Fields and Waves', 'Fluid Dynamics',\n",
       "       'Climate and Environmental Change', 'Geology for Engineering',\n",
       "       'Sensing and Spatial Analysis', 'Modelling and Simulation'],\n",
       "      dtype='object')"
      ]
     },
     "execution_count": 10,
     "metadata": {},
     "output_type": "execute_result"
    }
   ],
   "source": [
    "df.columns"
   ]
  },
  {
   "cell_type": "code",
   "execution_count": 13,
   "id": "121d98d9",
   "metadata": {},
   "outputs": [
    {
     "name": "stderr",
     "output_type": "stream",
     "text": [
      "/tmp/ipykernel_9740/3686749717.py:2: SettingWithCopyWarning: \n",
      "A value is trying to be set on a copy of a slice from a DataFrame\n",
      "\n",
      "See the caveats in the documentation: https://pandas.pydata.org/pandas-docs/stable/user_guide/indexing.html#returning-a-view-versus-a-copy\n",
      "  df_export.rename(columns={\"Mechanics and Thermodynamics\": \"Use\"}, inplace=True)\n"
     ]
    }
   ],
   "source": [
    "df_export = df[[\"Symbol\", \"Name\", \"Mechanics and Thermodynamics\"]]\n",
    "df_export.rename(columns={\"Mechanics and Thermodynamics\": \"Use\"}, inplace=True)\n",
    "df_export.to_json('glossary_mechanics_thermodynamics.json', orient='records', indent=4)"
   ]
  }
 ],
 "metadata": {
  "kernelspec": {
   "display_name": "teachbooks",
   "language": "python",
   "name": "python3"
  },
  "language_info": {
   "codemirror_mode": {
    "name": "ipython",
    "version": 3
   },
   "file_extension": ".py",
   "mimetype": "text/x-python",
   "name": "python",
   "nbconvert_exporter": "python",
   "pygments_lexer": "ipython3",
   "version": "3.13.5"
  }
 },
 "nbformat": 4,
 "nbformat_minor": 5
}
